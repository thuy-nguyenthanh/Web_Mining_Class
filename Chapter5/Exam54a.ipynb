{
 "cells": [
  {
   "cell_type": "code",
   "execution_count": 1,
   "metadata": {},
   "outputs": [],
   "source": [
    "import pandas as pd\n",
    "import os\n",
    "import re\n",
    "from sklearn.feature_extraction.text import CountVectorizer\n",
    "from sklearn.metrics.pairwise import cosine_similarity\n",
    "import nltk\n",
    "from nltk.corpus import stopwords\n",
    "from nltk.stem import WordNetLemmatizer"
   ]
  },
  {
   "cell_type": "code",
   "execution_count": 2,
   "metadata": {},
   "outputs": [],
   "source": [
    "# Đọc file dữ liệu\n",
    "def read_file(filename):\t\n",
    "    file_store=os.getcwd() + \"\\\\Data\"\n",
    "    filename=os.path.join(file_store, filename)        \n",
    "    with open(filename, 'r',encoding=\"utf-8\") as f:\n",
    "        data = f.read()\n",
    "    return data\n",
    "\n",
    "# Chuẩn hóa dữ liệu\n",
    "def create_dataframe(matrix, tokens):\n",
    "    doc_names = [f'doc_{i+1}' for i, _ in enumerate(matrix)]\n",
    "    df = pd.DataFrame(data=matrix, index=doc_names, columns=tokens)\n",
    "    return(df)\n",
    "    \n",
    "# Tiền xử lý dữ liệu    \n",
    "def Text_Preprocessing(doc):\n",
    "    text_pre=doc.lower()\n",
    "    text_pre=re.sub(r'[^\\w\\s]','',text_pre)\n",
    "    text_pre=re.sub(\"\\d+\", \" \", text_pre)\n",
    "\n",
    "    lemmatizer = WordNetLemmatizer()\n",
    "    words = nltk.word_tokenize(text_pre)\n",
    "    words = [lemmatizer.lemmatize(word) for word in words if word not in set(stopwords.words('english'))]\n",
    "    text_pre = ' '.join(words)\n",
    "\n",
    "    return text_pre"
   ]
  },
  {
   "cell_type": "code",
   "execution_count": 3,
   "metadata": {},
   "outputs": [
    {
     "data": {
      "text/plain": [
       "['chatgpt banned italy privacy concern action italy data protection agency first known instance chatbots blocked government order italy data protection authority said openai unlawfully collected personal data user ageverification system place prevent minor exposed illicit materialcreditsusan wright new york time artificial intelligence tool chatgpt temporarily banned italy friday first known instance chatbot blocked government order italy data protection authority said openai california company make chatgpt unlawfully collected personal data user ageverification system place prevent minor exposed illicit material italy first government ban chatgpt result privacy concern china north korea russia iran service unavailable openai decided make accessible italy decision sign policy challenge emerging developer cuttingedge ai release chatgpt program dazzled user ability draft essay engage humanlike conversation perform complex task like writing computer code raised alarm spread misinformation effect employment broader risk society week technology leader researcher called moratorium development advanced ai system safety policy could put place center ai digital policy advocacy group pushing ethical use technology asked u federal trade commission block openai releasing new commercial version chatgpt image black smartphone displaying chatgpt order italy sign policy challenge emerging developer cuttingedge artificial intelligence program release chatgptcreditjackie molloy new york time italy regulator told openai block internet user country gaining access chatgpt company turn additional information company day provide agency material possible remedy final decision made future product country regulator cited march data breach exposed conversation payment detail user agency said openai could fined million euro million percent worldwide annual revenue statement openai said disabled chatgpt user italy committed protecting people privacy actively work reduce personal data training ai system like chatgpt want ai learn world private individual company said also believe ai regulation necessary pm friday italy word yet reached chatbot would blocked country asked user would banned italy privacy concern chatgpt replied concern artificial intelligence language model accessed anywhere world long internet connection chatbot said emma bubola contributed reporting',\n",
       " 'ai chatbot chatgpt blocked italy privacy concern italy become first western country block artificial intelligence chatbot chatgpt data privacy concern key point italian watchdog cited concern chatgpts massive collection processing personal data openai day respond remedy could risk fine openai say disabled chatgpt user italy italian dataprotection authority temporarily banned chatbot investigated possible violation privacy rule italy privacy watchdog garante said taking provisional action chatgpt respect privacy including temporarily limiting company processing italian user data questioned whether openai legal justification massive collection processing personal data used train platform algorithm italian regulator also accused openai failing check age chatgpts user supposed aged chatgpt created usstart open ai backed microsoft known ability generate essay song exam news article brief prompt openai said disabled chatgpt user italy following government request concern grow ai boom ban came day group artificial intelligence expert including tesla ceo elon musk called company openai pause development ai model open letter cited potential risk society chatgpt set tech craze since release november last year prompting rival launch similar product company integrate similar technology product italy restriction affect web version chatgpt popularly used writing assistant alp toker director advocacy group netblocks monitor internet access worldwide said italy action first nationscale restriction mainstream ai platform democracy chatbot also unavailable mainland china hong kong iran russia part africa resident create openai account italian watchdog said openai must report within day measure taken ensure privacy user data face fine either million euro million per cent annual global revenue italian regulator also said march chatgpt experienced data breach involving user conversation subscriber payment ai regulation needed expert said new regulation needed govern ai potential impact national security job education european consumer group beuc last week called eu authority investigate chatgpt similar ai chatbots beuc said could year eu ai legislation take effect authority need act faster protect consumer possible risk month seen massive takeup chatgpt beginning deputy director general ursula pachl said said waiting eu ai act happen year good enough serious concern growing chatgpt similar chatbots might deceive manipulate people chatgpt estimated reached million monthly active user january two month launch making fastestgrowing consumer application history according ubs study published last month',\n",
       " 'manchester united fc mufc redirects us see mufc disambiguation article men professional football team woman team associated club see manchester united wfc independent club established supporter see fc united manchester manchester united football club commonly referred man united often stylised man utd man u simply united professional football club based old trafford greater manchester england club competes premier league top division english football league system nicknamed red devil founded newton heath lyr football club changed name manchester united spell playing clayton manchester club moved current stadium old trafford manchester united record league title fa cup six league cup record fa community shield european cupuefa champion league three time uefa europa league uefa cup winner cup uefa super cup intercontinental cup fifa club world cup management matt busby year eight club player killed munich air disaster became first english club win european cup sir alex ferguson club longestserving successful manager winning trophy including league title five fa cup two champion league title season ferguson club became first history english football achieve european treble premier league fa cup uefa champion league winning uefa europa league josé mourinho became one five club original three main uefa club competition champion league europa league cup winner cup manchester united one widely supported football club world rivalry liverpool manchester city arsenal leeds united manchester united highestearning football club world annual revenue million world third valuable football club valued billion billion floated london stock exchange club taken private purchase american businessman malcolm glazer valued almost million million borrowed money became club debt share club listed new york stock exchange although glazer family retains overall ownership control club early year main article history manchester united fc manchester united formed newton heath lyr football club carriage wagon department lancashire yorkshire railway lyr depot newton heath team initially played game department railway company november competed first recorded match wearing colour railway company green gold defeated bolton wanderer reserve team club become founding member combination regional football league following league dissolution one season newton heath joined newly formed football alliance ran three season merged football league resulted club starting season first division time become independent railway company dropped lyr name two season club relegated second division blackandwhite photograph football team lining match four player wearing dark shirt light short dark sock seated four player standing immediately behind three standing higher level back row two men suit standing either side player manchester united team start season runnersup second division january debt equivalent nb club served windingup order captain harry stafford found four local businessmen including john henry davy became club president willing invest return direct interest running club subsequently changed name april manchester united officially born nb ernest mangnall assumed managerial duty team finished second division runnersup secured promotion first division club first league title following season began victory first ever charity shield ended club first fa cup title manchester united first division second time end following season mangnall left club join manchester city three year resumption football following first world war club relegated second division remained regaining promotion relegated manchester united became yoyo club achieving alltime lowest position th place second division following death principal benefactor john henry davy october club finance deteriorated extent manchester united would likely gone bankrupt james w gibson december invested assumed control club season last year football second world war club finished th first division']"
      ]
     },
     "execution_count": 3,
     "metadata": {},
     "output_type": "execute_result"
    }
   ],
   "source": [
    "# Define the Data\n",
    "doc_1=read_file(\"doc1.txt\")\t#Crawl from: https://www.nytimes.com/2023/03/31/technology/chatgpt-italy-ban.html\n",
    "doc_2=read_file(\"doc2.txt\") #Crawl from: https://www.abc.net.au/news/2023-04-01/chatgpt-ai-chatbot-blocked-itay-over-privacy-concerns/102175640\n",
    "doc_3=read_file(\"doc3.txt\") #Crawl from: https://en.wikipedia.org/wiki/Manchester_United_F.C.\n",
    "\n",
    "doc_1=Text_Preprocessing(doc_1)\n",
    "doc_2=Text_Preprocessing(doc_2)\n",
    "doc_3=Text_Preprocessing(doc_3)\n",
    "\n",
    "data = [doc_1, doc_2, doc_3]\n",
    "data"
   ]
  },
  {
   "cell_type": "code",
   "execution_count": 4,
   "metadata": {},
   "outputs": [
    {
     "data": {
      "text/plain": [
       "(3, 594)"
      ]
     },
     "execution_count": 4,
     "metadata": {},
     "output_type": "execute_result"
    }
   ],
   "source": [
    "# Xây dựng vector TF-IDF\n",
    "CountVect = CountVectorizer()\n",
    "vector_matrix = CountVect.fit_transform(data)\n",
    "vector_matrix.shape"
   ]
  },
  {
   "cell_type": "code",
   "execution_count": 5,
   "metadata": {},
   "outputs": [
    {
     "data": {
      "text/html": [
       "<div>\n",
       "<style scoped>\n",
       "    .dataframe tbody tr th:only-of-type {\n",
       "        vertical-align: middle;\n",
       "    }\n",
       "\n",
       "    .dataframe tbody tr th {\n",
       "        vertical-align: top;\n",
       "    }\n",
       "\n",
       "    .dataframe thead th {\n",
       "        text-align: right;\n",
       "    }\n",
       "</style>\n",
       "<table border=\"1\" class=\"dataframe\">\n",
       "  <thead>\n",
       "    <tr style=\"text-align: right;\">\n",
       "      <th></th>\n",
       "      <th>doc_1</th>\n",
       "      <th>doc_2</th>\n",
       "      <th>doc_3</th>\n",
       "    </tr>\n",
       "  </thead>\n",
       "  <tbody>\n",
       "    <tr>\n",
       "      <th>doc_1</th>\n",
       "      <td>1.000000</td>\n",
       "      <td>0.666078</td>\n",
       "      <td>0.046005</td>\n",
       "    </tr>\n",
       "    <tr>\n",
       "      <th>doc_2</th>\n",
       "      <td>0.666078</td>\n",
       "      <td>1.000000</td>\n",
       "      <td>0.039957</td>\n",
       "    </tr>\n",
       "    <tr>\n",
       "      <th>doc_3</th>\n",
       "      <td>0.046005</td>\n",
       "      <td>0.039957</td>\n",
       "      <td>1.000000</td>\n",
       "    </tr>\n",
       "  </tbody>\n",
       "</table>\n",
       "</div>"
      ],
      "text/plain": [
       "          doc_1     doc_2     doc_3\n",
       "doc_1  1.000000  0.666078  0.046005\n",
       "doc_2  0.666078  1.000000  0.039957\n",
       "doc_3  0.046005  0.039957  1.000000"
      ]
     },
     "execution_count": 5,
     "metadata": {},
     "output_type": "execute_result"
    }
   ],
   "source": [
    "tokens = CountVect. get_feature_names_out()\n",
    "create_dataframe(vector_matrix.toarray(),tokens)\n",
    "\n",
    "# Tính toán độ tương đồng\n",
    "cosine_similarity_matrix = cosine_similarity(vector_matrix)\n",
    "Similarity=create_dataframe(cosine_similarity_matrix,['doc_1','doc_2','doc_3'])\n",
    "\n",
    "Similarity"
   ]
  }
 ],
 "metadata": {
  "kernelspec": {
   "display_name": "Python 3",
   "language": "python",
   "name": "python3"
  },
  "language_info": {
   "codemirror_mode": {
    "name": "ipython",
    "version": 3
   },
   "file_extension": ".py",
   "mimetype": "text/x-python",
   "name": "python",
   "nbconvert_exporter": "python",
   "pygments_lexer": "ipython3",
   "version": "3.9.2"
  },
  "orig_nbformat": 4
 },
 "nbformat": 4,
 "nbformat_minor": 2
}
