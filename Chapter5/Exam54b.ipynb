{
 "cells": [
  {
   "cell_type": "code",
   "execution_count": 7,
   "metadata": {},
   "outputs": [],
   "source": [
    "import pandas as pd\n",
    "import os\n",
    "from sklearn.feature_extraction.text import CountVectorizer\n",
    "from sklearn.metrics.pairwise import cosine_similarity\n",
    "import underthesea #pip install underthesea\n",
    "\n",
    "Path=os.getcwd() + \"\\\\Data\""
   ]
  },
  {
   "cell_type": "code",
   "execution_count": 8,
   "metadata": {},
   "outputs": [],
   "source": [
    "# Đọc file dữ liệu\n",
    "def read_file(filename):\t    \n",
    "    filename=os.path.join(Path, filename)        \n",
    "    with open(filename, 'r',encoding=\"utf-8\") as f:\n",
    "        data = f.read()\n",
    "\n",
    "    return data.encode('utf-8')\n",
    "\n",
    "# Chuẫn hóa dữ liệu\n",
    "def create_dataframe(matrix, tokens):\n",
    "    doc_names = [f'doc_{i+4}' for i, _ in enumerate(matrix)]\n",
    "    df = pd.DataFrame(data=matrix, index=doc_names, columns=tokens)\n",
    "    return(df)\n",
    "\n",
    "# Tiền xử lý văn bản\n",
    "import re\n",
    "def Text_Preprocessing(doc):\n",
    "    text_pre = doc.lower()\n",
    "    \n",
    "    text_pre = underthesea.word_tokenize(text_pre, format=\"text\")\n",
    "    text_pre = underthesea.text_normalize(text_pre)\n",
    "    \n",
    "    text_pre = text_pre.replace('XXXX', '')        \n",
    "    text_pre = text_pre.replace(u'\\ufffd', '')   # Replaces the ASCII symbol with ''\n",
    "    text_pre = re.sub(r'[^\\w\\s]','',text_pre)\n",
    "    text_pre = text_pre.rstrip('\\n')              # Removes line breaks\n",
    "    text_pre = text_pre.casefold()                # Makes all letters lowercase\n",
    "    \n",
    "    text_pre = re.sub('\\W_',' ', text_pre)        # removes specials characters and leaves only words\n",
    "    text_pre = re.sub(\"\\S*\\d\\S*\",\" \", text_pre)   # removes numbers and words concatenated with numbers IE h4ck3r. Removes road names such as BR-381.\n",
    "    text_pre = re.sub(\"\\S*@\\S*\\s?\",\" \", text_pre) # removes emails and mentions (words with @)\n",
    "    text_pre = re.sub(r'http\\S+', '', text_pre)   # removes URLs with http\n",
    "    text_pre = re.sub(r'www\\S+', '', text_pre)    # removes URLs with www\n",
    "        \n",
    "        \n",
    "    ##Remove stop words\n",
    "    filename=os.path.join(Path, \"vietnamese-stopwords.txt\")\n",
    "    f = open(filename, \"r\", encoding=\"utf-8\")\n",
    "    \n",
    "    #Get Stop words Dictionaries\n",
    "    List_StopWords=f.read().split(\"\\n\")\n",
    "    text_pre=\" \".join(text for text in text_pre.split() if text not in List_StopWords)\n",
    "    \n",
    "    return text_pre"
   ]
  },
  {
   "cell_type": "code",
   "execution_count": 9,
   "metadata": {},
   "outputs": [
    {
     "data": {
      "text/plain": [
       "['xử_lý ngôn_ngữ tự_nhiên natural language processing nlp nhánh trí_tuệ nhân_tạo tập_trung ứng_dụng ngôn_ngữ con_người trí_tuệ nhân_tạo xử_lý ngôn_ngữ tự_nhiên liên_quan ý_nghĩa ngôn ngữcông cụ hoàn_hảo tư_duy giao_tiếp xử_lý phân_tích hình_thái phân_tích ký chữ dấu_câu tách tiếng ngôn_ngữ phân_tách dấu tuy_nhiên tiếng việt dấu phân_tách tiếng âm_tiết ngôn_ngữ tiếng trung tiếng hàn tiếng nhật phân_tách tiếng việt công_việc hề đơn_giản phân_tích cú_pháp dãy biến_đổi thành cấu_trúc thể_hiện liên_kết dãy vi_phạm luật văn_phạm phân_tích ngữ_nghĩa ngữ_nghĩa cấu_trúc phân_tích cú_pháp tích_hợp văn_bản ngữ_nghĩa câu riêng_biệt có_thể phụ_thuộc câu đứng đồng_thời có_thể ảnh_hưởng câu phân_tích thực_nghĩa cấu_trúc thể_hiện phát_ngôn thông_dịch xác_định thật_sự nghĩa tuy_nhiên ranh_giới xử_lý mong_manh có_thể tiến_hành bước_một tiến_hành tùy giải_thuật ngữ_cảnh cụ_thể bài_toán ứng_dụng nhận_dạng chữ viết hai kiểu nhận_dạng nhận_dạng chữ in ví_dụ nhận_dạng chữ sách_giáo_khoa thành dạng văn_bản điện_tử định_dạng doc microsoft word chẳng_hạn phức_tạp nhận_dạng chữ viết khó_khăn bởi_vì chữ viết khuôn_dạng rõ_ràng thay_đổi chương_trình nhận_dạng chữ viết in có_thể hàng ngàn đầu_sách thư_viện thành_văn_bản điện_tử thời_gian ngắn nhận_dạng chữ_viết con_người ứng_dụng khoa_học hình_sự bảo_mật thông_tin nhận_dạng chữ_ký điện_tử nhận_dạng tiếng_nói nhận_dạng tiếng_nói thành văn_bản tương_ứng giúp thao_tác con_người thiết_bị đơn_giản chẳng_hạn thay_vì gõ tài_liệu bạn_đọc trình_soạn_thảo ghi đầu_tiên thực_hiện ước_mơ thực_hiện giao_tiếp con_người robot nhận_dạng tiếng_nói khả_năng trợ_giúp khiếm_thị tổng_hợp tiếng_nói văn_bản tự_động tổng_hợp_thành tiếng_nói thay_vì đọc sách nội_dung trang_web tự_động đọc chúng_ta nhận_dạng tiếng_nói tổng_hợp tiếng trợ_giúp khiếm_thị ngược_lại cuối_cùng giao_tiếp robot dịch tự_động machine translate gọi chương_trình dịch tự_động_từ ngôn_ngữ ngôn_ngữ phần_mềm điển_hình tiếng việt chương_trình evtrans softex dịch tự_động_từ tiếng tiếng việt ngược_lại phần_mềm trang_web vdictcom mua bản_quyền trang đầu_tiên ứng_dụng mạng hai công_ty tham_gia lĩnh_vực ngôn_ngữ tiếng việt công_ty lạc việt công_ty phát_hành từ_điển lạc việt google thời_gian xalo_vn dịch_vụ tương_tự tìm_kiếm thông_tin information retrieval câu chương_trình_tự nội_dung phù_hợp thông_tin ngày_càng cấp_số_nhân đặc_biệt trợ_giúp internet tiếp_cận thông_tin trở_lên dễ_dàng bao_giờ khó_khăn thông_tin bề_bộn tri_thức đặc_biệt thông_tin tin_cậy máy tìm_kiếm dựa giao_diện web google yahoo hiện_nay phân_tích nội_dung đơn_giản dựa tần_suất khóa thứ_hạng trang một_số tiêu_chí đánh_giá kết_luận kết_quả tìm_kiếm câu trả_lời phù_hợp thậm_chí liên_kết liên_quan thủ_thuật đánh_lừa trang_web giới_thiệu sản_phẩm tiếng seo viết tắt search engine optimization thực_tế bây_giờ máy tìm_kiếm ngôn_ngữ tự_nhiên con_người trừ trang đánh_giá câu cấu_trúc dạng đơn_giản mới_đây cộng_đồng mạng xôn_xao trang wolfram alpha hứa_hẹn khả_năng ngôn_ngữ tự_nhiên con_người câu trả_lời chính_xác lĩnh_vực hứa_hẹn nhảy cách_thức tiếp_nhận tri_thức cộng_đồng tóm_tắt văn_bản văn_bản tóm_tắt thành văn_bản ngắn mong_muốn chứa nội_dung thiết_yếu khai_phá dữ_liệu data mining phát_hiện tri_thức tài_liệu phát_hiện tri_thức thực_tế mô_phỏng quá_trình học_tập khám_phá khoa_học con_người lĩnh_vực giai_đoạn đầu phát_triển mức_độ đơn_giản kết_hợp máy tìm_kiếm cho_phép câu công_cụ câu trả_lời dựa thông_tin web mặc câu trả_lời lưu web trang yahoo đáp chuyên câu trả_lời một_cách nôm_na xử_lý dữ_liệu trả_lời câu_hỏi sử_dụng thay_vì máy_móc đáp sẵn bộ_nhớ bài_toán xử_lý tiếng việt phân_tách câu phân_tách tự_động dấu chữ viết tiếng việt chữ viết dấu văn_bản chính_thống sách báo_chí văn_bản hành_chính dấu viết chính_xác tuy_nhiên tình_huống chính_thống chat gõ tìm_kiếm thông_thường gõ dấu khó_khăn nhất_định máy_tính ý_nghĩa văn_bản dữ_liệu xử_lý tiếng việt treebank tiếng việt viettreebank niivtb đáp đọc tự_động uitviquad uitvinewsqa phân_tích cảm_xúc updating',\n",
       " 'manchester united f c mufc mu đổi hướng đối_với định_nghĩa mufc định_hướng đối_với định_nghĩa mu viết câu_lạc_bộ bóng_đá nam đối_với câu_lạc_bộ bóng_đá nữ manchester united w f c đối_với câu_lạc_bộ bóng_rổ manchester eagles câu_lạc_bộ bóng_đá manchester united tiếng manchester united football club ngắn_gọn mu man utd câu_lạc_bộ bóng_đá chuyên_nghiệp trụ_sở old trafford đại_manchester câu_lạc_bộ hiện giải bóng_đá ngoại_hạng giải đấu hàng_đầu hệ_thống bóng_đá biệt_danh quỷ_đỏ câu_lạc_bộ thành_lập newton heath lyr football club đổi thành manchester united sân_vận_động hiện_tại old trafford manchester united câu_lạc_bộ thành_công kỷ_lục vô_địch bóng_đá đoạt cúp fa cúp liên_đoàn kỷ_lục đoạt siêu cúp câu_lạc_bộ giành cúp châu_âu uefa champions league uefa cup winners cup uefa europa league siêu cúp châu_âu cúp liên lục_địa fifa club world cup mùa giải manchester united trở_thành đội bóng đầu_tiên duy_nhất giành cú mùa giải chức vô_địch ngoại_hạng cúp fa uefa champions league thảm_họa hàng_không münchen cướp đi sinh_mạng tám cầu_thủ dẫn_dắt matt busby manchester united câu_lạc_bộ bóng_đá đầu_tiên giành cúp châu_âu huấn_luyện_viên alex ferguson giành danh_hiệu dẫn_dắt câu_lạc_bộ chức vô_địch premier league cúp fa uefa champions league tuyên_bố nghỉ hưu huấn_luyện_viên câu_lạc_bộ erik ten hag bổ_nhiệm manchester united câu_lạc_bộ bóng_đá đứng hai doanh_thu thế_giới mùa giải doanh_thu hàng triệu euro đứng giá_trị đội bóng thế_giới trị_giá tỷ usd câu_lạc_bộ giá_trị thương_hiệu bóng_đá thế_giới ước_tính trị_giá tỷ usd đội bóng số_lượng hâm_mộ thế_giới câu_lạc_bộ vận_hành dạng công_ty trách_nhiệm hữu_hạn cổ_phần sàn chứng_khoán luân đôn câu_lạc_bộ malcolm glazer mua giá triệu bảng câu_lạc_bộ một_số kình_địch nổi_bật liverpool manchester city arsenal leeds united lịch_sử đầu biểu_đồ quá_trình thi_đấu manchester united hệ_thống giải bóng_đá mùa giải gọi newton heath chi_tiết lịch_sử manchester united f c manchester united thành_lập gọi newton heath lyr football club bộ_phận toa hành_khách toa trần công_ty đường_sắt lancashire and yorkshire railway lyr ban_đầu đội thi_đấu đội bóng bộ_phận công_ty công_ty đường_sắt trận đấu đầu_tiên ghi_chép mặc áo màu_sắc công_ty xanh_lục vàng đội dự_bị bolton wanderers đánh_bại câu_lạc_bộ trở_thành thành_viên sáng_lập the combination giải bóng_đá tuy_nhiên giải giải_thể mùa giải đầu_tiên do_đó newton heath gia_nhập giải bóng_đá football alliance giải tồn_tại mùa giải sáp_nhập football league đội bắt_đầu mùa giải giải hạng đội bắt_đầu tách công_ty đường_sắt chữ lyr hai mùa giải đội giải hạng nhì đội_hình manchester united mùa giải giành á_quân giải hạng nhì nợ bảng tương_đương bảng nb đội đứng nguy_cơ giải_thể đội_trưởng harry stafford bốn thương_nhân địa_phương john henry davies trở_thành chủ_tịch câu_lạc_bộ sẵn_lòng bảng đổi quyền điều_hành câu_lạc_bộ đổi câu_lạc_bộ manchester united chính_thức ra_đời nb dẫn_dắt ernest mangnall bổ_nhiệm đội giành vị_trí á_quân giải hạng nhì giành quyền giải hạng đội giành chức vô_địch quốc_gia đầu_tiên mùa giải united khởi_đầu chức vô_địch charity shield kết_thúc chức vô_địch cúp fa manchester united vô_địch hạng hai mùa giải mangnall chia_tay đội manchester city bóng_đá trở_lại thế_chiến câu_lạc_bộ hạng hai hạng trở_lại hạng manchester united hạng vị_trí đội sở_hữu vị_trí giải hạng hai john henry davies qua_đời tình_hình tài_chính câu_lạc_bộ xuống_dốc manchester united chút_nữa phá_sản may thay james w gibson đầu_tư bảng nắm quyền câu_lạc_bộ mùa giải mùa giải cuối_cùng thế_chiến hai nổ đội kết thức vị_trí giải hạng kỷ_nguyên matt busby ảnh đen trắng một_số quần_áo áo_khoác cầu_thang máy_bay đứa trẻ busby đan_mạch huấn_luyện_viên matt busby đứng hàng chi_tiết lịch_sử manchester united f c vị_trí huấn_luyện_viên trưởng giao matt busby yêu_cầu kiểm_soát chọn_lựa đội_hình chuyển_nhượng cầu_thủ tập_luyện đội busby câu_lạc_bộ nhì giải vô_địch quốc_gia chức vô_địch cúp fa câu_lạc_bộ giành chức vô_địch giải hạng danh_hiệu vô_địch quốc_gia đầu_tiên độ trung_bình đội_hình vô_địch quốc_gia hai liên_tiếp báo_chí gọi biệt_danh đứa trẻ busby the busby babes minh_chứng niềm busby cầu_thủ trẻ manchester united trở_thành đội bóng đầu_tiên dự cúp châu_âu bất_chấp phản_đối the football league chelsea cơ_hội châu_âu mùa giải mặc_dù dừng bán_kết real madrid đội kỳ_tích chiến_thắng anderlecht bỉ thắng_lợi đậm lịch_sử câu_lạc_bộ bia đá khắc hình_ảnh sân bóng_đá một_số cầu_thủ bao quanh đường_viền đá hình_dạng sân_vận_động bóng_đá bảng gỗ khắc hai đàn_ông cầm vòng_hoa bảng old trafford tưởng_nhớ cầu_thủ thảm_họa hàng_không münchen bao_gồm cầu_thủ tai_nạn mùa giải đường trở chiến_thắng sao_đỏ beograd tứ_kết cúp máy_bay chở cầu_thủ ban huấn_luyện manchester united nhà_báo nạn cố_gắng cất_cánh tiếp nhiên_liệu münchen đức thảm_họa hàng_không münchen cướp đi sinh_mạng tám cầu_thủ geoff bent roger byrne eddie colman duncan edwards mark jones david pegg tommy taylor billy whelan bị_thương tượng united trinity bao_gồm george best trái denis law bobby charlton old trafford huấn_luyện đội dự_bị jimmy murphy đảm_nhiệm cương_vị huấn_luyện_viên thời_gian busby hồi_phục sức_khỏe đội_hình thay_thế lọt chung_kết cúp fa thất_bại bolton wanderers bù_đắp thiệt_thòi đội bóng liên_đoàn bóng_đá_châu_âu mời đội tham_dự cúp châu_âu đội vô_địch wolverhampton wanderers mặc_dù chấp_thuận fa football league đội tham_dự giải busby tái_thiết câu_lạc_bộ thập_niên ký hợp_đồng denis law pat crerand kết_hợp thế_hệ cầu_thủ trẻ kế_cận đội george best giành cúp fa mùa giải tiếp_theo vị_trí giải quốc_gia giành chức vô_địch manchester united trở_thành câu_lạc_bộ đầu_tiên câu_lạc_bộ vương_quốc hai giành chức vô_địch cúp châu_âu đánh_bại benfica trận chung_kết đội_hình cầu_thủ châu_âu xuất_sắc bobby charlton denis law george best matt busby rời câu_lạc_bộ thay_thế huấn_luyện_viên đội dự_bị cựu cầu_thủ manchester united wilf mcguinness đàn_ông mỉm cười mái_tóc đen mặc áo_khoác màu trắng lẫn xanh_lá mặc áo sơ_mi màu xanh nắm túi_xách cánh_tay_phải bryan robson đội_trưởng manchester united cầu_thủ chi_tiết lịch_sử manchester united f c kết_thúc mùa giải vị_trí tám khởi_đầu tệ_hại mùa bóng busby câu_lạc_bộ thuyết_phục trở_lại ghế chỉ_đạo mcguinness trở_lại vị_trí huấn_luyện đội dự_bị frank ofarrell chỉ_định huấn_luyện_viên trụ thay_thế tommy docherty docherty cứu manchester united hạng mùa giải cuối_cùng united hạng thời_điểm bộ_ba best law charlton chia_tay câu_lạc_bộ đội thăng hạng mùa giải lọt trận chung_kết cúp fa southampton hạ gục chung_kết đánh_bại liverpool tỉ_số docherty buộc chức quan_hệ tình_ái vợ nhân_viên vật_lý trị_liệu câu_lạc_bộ phanh_phui dave sexton thay_thế docherty huấn_luyện_viên mùa hè mặc_dù hợp_đồng joe jordan gordon mcqueen gary bailey ray wilkins đội không_thể danh_hiệu nhì mùa giải thua arsenal trận chung_kết cúp fa sexton sa_thải manchester united giành chiến_thắng bảy trận cuối_cùng chỉ_đạo thay_thế ron atkinson ngay_lập_tức phá vỡ kỉ_lục chuyển_nhượng mua bryan robson west bromwich albion quyền atkinson united đoạt hai chức vô_địch cúp fa mùa giải chiến_thắng trận hòa trận đầu_tiên đội trở_thành ứng_cử_viên số_một vô_địch cuối_cùng vị_trí bốn mùa giải_kết_thúc mùa giải united đứng nguy_cơ hạng kiến atkinson sa_thải triều_đại ferguson alex ferguson dẫn_dắt đội bóng chi_tiết lịch_sử manchester united f c alex ferguson trợ_lý archie knox aberdeen atkinson sa_thải đội kết_thúc mùa giải vị_trí mặc_dù nhì mùa giải đội trở_lại vị_trí mùa giải đồn đoán nguy_cơ sa_thải chiến_thắng crystal palace trận đá chung_kết cúp fa cứu_vãn sự_nghiệp ferguson mùa giải manchester united giành chức vô_địch cúp châu_âu đầu_tiên chiến_thắng trận tranh siêu cúp châu_âu vô_địch cúp sao_đỏ beograd old trafford đội tiếp_tục chung_kết cúp liên_đoàn đánh_bại nottingham forest wembley câu_lạc_bộ giành chức vô_địch quốc_gia đầu_tiên bảo_vệ thành_công_chức vô_địch hoàn_tất cú đúp danh_hiệu đầu_tiên lịch_sử câu_lạc_bộ chức vô_địch cúp fa ryan giggs cầu_thủ giàu thành_tích lịch_sử bóng_đá mùa giải manchester united trở_thành đội đầu_tiên vô_địch giải ngoại_hạng cúp fa uefa champions league cú mùa giải lội ngược dòng thời_gian bù trận chung_kết uefa champions league bàn thắng teddy sheringham ole gunnar solskjær thắng_lợi kịch_tính bayern münchen chiến_thắng coi lội ngược dòng vĩ_đại thời_đại đội giành chức vô_địch cúp liên lục_địa palmeiras tỉ_số tokyo ferguson phong_tước hiệp_sĩ cống_hiến bóng_đá manchester united lên_ngôi vô_địch mùa giải đội ở_mùa đòi chức vô_địch mùa giành chức vô_địch cúp fa hạ millwall trận chung_kết sân vận_động thiên_niên_kỷ cardiff mùa giải manchester united đầu_tiên thập_kỷ thể vòng bảng uefa champions league đích vị_trí nhì premier league giành chức vô_địch cúp liên_đoàn wigan athletic trở_lại vương giải ngoại_hạng mùa giải đồng_thời hoàn_tất cú đúp chiến_thắng loạt luân_lưu chelsea trận chung_kết uefa champions league sân_vận_động luzhniki moskva trận đấu ryan giggs câu_lạc_bộ kỷ_lục bobby charlton câu_lạc_bộ giành chức vô_địch fifa club world cup nối_tiếp danh_hiệu vô_địch cúp liên_đoàn chức vô_địch ngoại_hạng liên_tiếp mùa hè cristiano ronaldo real madrid giá triệu bảng manchester united đánh_bại aston villa bảo_vệ thành_công_chức vô_địch cúp liên_đoàn đồng_thời đầu_tiên bảo_vệ thành_công_chức vô_địch giải đấu cúp kết_thúc vị_trí á_quân mùa giải united giành chức vô_địch kỷ_lục mùa giải đảm_bảo vô_địch trận hòa sân blackburn rovers con_số nâng thành chức vô_địch mùa giải đảm_bảo vô_địch chiến_thắng sân_nhà aston villa',\n",
       " 'arsenal f c viết câu_lạc_bộ bóng_đá nam đối_với câu_lạc_bộ nữ arsenal women f c đối_với câu_lạc_bộ bóng_đá ghana berekum arsenal đối_với định_nghĩa arsenal định_hướng câu_lạc_bộ bóng_đá arsenal tiếng arsenal football club viết tắt arsenal f c câu_lạc_bộ bóng_đá chuyên_nghiệp trụ_sở holloway luân_đôn hiện thi_đấu giải bóng_đá ngoại_hạng giải đấu hệ_thống bóng_đá arsenal giành chức vô_địch quốc_gia cúp fa kỷ_lục cúp liên_đoàn cúp liên_đoàn thế_kỷ siêu cúp cúp uefa cúp intercities fairs arsenal câu_lạc_bộ trận thắng hai lịch_sử bóng_đá đội bóng duy_nhất vô_địch quốc_gia thành_tích bất bại vòng đấu biệt_danh the invincibles tiếng việt đội_bóng bất bại giành cúp vàng ngoại_hạng arsenal trở_thành câu_lạc_bộ đầu_tiên miền nam tham_gia the football league bắt_đầu thi_đấu giải hạng hạng đội bóng góp_mặt giải đấu thời_gian thập_niên arsenal giành chức vô_địch quốc_gia cúp fa chiến_tranh thế_giới ii giành chức vô_địch quốc_gia cúp fa mùa giải giành cú đúp vô_địch quốc_gia cúp fa giai_đoạn giành chức vô_địch quốc_gia cúp fa hai cú đúp kết_thúc thế_kỷ xx thứ_hạng trung_bình herbert chapman arsenal danh_hiệu quốc_gia đầu_tiên may qua_đời phát_minh sơ_đồ chiến_thuật wm phát_kiến bóng ánh đèn cao_áp áo thi_đấu màu trắng tay_áo đỏ trang_phục thi_đấu arsenal arsène wenger huấn_luyện_viên tại_vị dẫn_dắt câu_lạc_bộ giành danh_hiệu kỷ_lục giành cúp fa chuỗi trận thắng lịch_sử bóng_đá chuỗi trận bất bại câu_lạc_bộ công_nhân làm_việc nhà_máy sản_xuất đạn_dược woolwich thành_lập đội bóng gọi dial square đội highbury trở_thành hàng_xóm tottenham hotspur trận derby bắc luân đôn đội thi_đấu sân emirates arsenal câu_lạc_bộ doanh_thu thứ_sáu thế_giới triệu bảng mùa giải dựa báo_cáo hoạt_động truyền_thông đại_chúng mùa giải arsenal cổ_động_viên thế_giới báo_cáo hãng kiểm_toán kpmg arsenal định_giá tỷ eur xếp danh_sách câu_lạc_bộ giá_trị lịch_sử đổi thành_lập câu_lạc_bộ dial square tiền_thân arsenal công_nhân woolwich đông_nam thủ_đô luân_đôn thành_lập đội bóng_đá dial square đổi thành royal arsenal david danskin đội_trưởng câu_lạc_bộ giành hai danh_hiệu đầu_tiên danh_hiệu duy_nhất arsenal thi_đấu đông_nam thủ_đô luân đôn đội bóng đổi thành woolwich arsenal trở_thành công_ty trách_nhiệm hữu_hạn woolwich arsenal trở_thành đội bóng đầu_tiên khu_vực nam tham_dự the football league bắt_đầu giải hạng nhì hạng đầu vị_trí địa_lý phù_hợp đội bóng khán_giả câu_lạc_bộ vì_thế công_ty sở_hữu câu_lạc_bộ lâm khó_khăn phá_sản tỷ_phú henry norris doanh_nhân william hall câu_lạc_bộ bắt_đầu di_chuyển vị_trí trụ_sở đội bóng rớt hạng hai đội bóng sông thames di_chuyển bắc luân đôn sân_vận_động highbury sân_nhà chính_thức câu_lạc_bộ the arsenal the football league tổ_chức bỏ_phiếu the arsenal hạng mùa kế_tiếp thay đội bóng thành_phố tottenham mặc_dù đội xếp sáu giải hạng nhì mùa giải tiền chiến một_số sách kết_quả bầu_cử chia suất hạng rõ_ràng kế_tiếp câu_lạc_bộ mạo the the arsenal văn_kiện chính_thức gọi sử_dụng ngày_nay câu_lạc_bộ_thuộc ngân_hàng biểu_đồ thành_tích arsenal mùa giải thăng hạng ngân_sách câu_lạc_bộ tăng_trưởng hâm_mộ gia_tăng arsenal bổ_nhiệm herbert chapman huấn_luyện_viên trưởng dẫn_dắt huddersfield town giành chức vô_địch quốc_gia mùa giải chapman arsenal giai_đoạn đầu_tiên thành_công phương_thức huấn_luyện đúng_đắn hợp_đồng cầu_thủ ngôi_sao alex james cliff bastin nền_tảng thống_trị arsenal bóng_đá dẫn_dắt chapman arsenal giành chức vô_địch giải đấu đầu_tiên cúp fa hai chức vô_địch quốc_gia mùa giải nhà_ga tàu_điện_ngầm gillespie road đổi thành arsenal trường_hợp đặc_biệt nhà_ga câu_lạc_bộ bóng_đá chapman chứng viêm phổi đột_ngột qua_đời joe shaw george allison tiếp_tục công_việc chapman thành_công huấn_luyện arsenal giành chức vô_địch quốc_gia cúp fa như_là chảo lửa câu_lạc_bộ thập_kỷ loạt cầu_thủ chủ_chốt bắt_đầu dừng thi_đấu ảnh_hưởng chiến_tranh thế_giới ii tiếng_tăm arsenal phần_nào lu_mờ bóng_đá nghỉ thi_đấu chiến_tranh arsenal thời_gian thành_công hai huấn_luyện_viên tom whittaker giành hai chức vô_địch quốc_gia cúp fa mùa giải thời_kỳ đi mee neill bertie mee arsenal bắt_đầu thi_đấu sa_sút thu_hút cầu_thủ câu_lạc_bộ đội bóng hạng trung hai thập_kỷ cựu đội_trưởng tuyển billy wright không_thể câu_lạc_bộ danh_hiệu chức_danh huấn_luyện_viên trưởng thời_gian arsenal bổ_nhiệm bertie mee huấn_luyện_viên trưởng thua hai trận chung_kết cúp liên_đoàn đàn_ông vật_lý trị_liệu giúp arsenal giành cúp châu_âu đầu_tiên intercities fairs cup mùa giải mùa giải kế_tiếp arsenal giành cú đúp danh_hiệu đầu_tiên lịch_sử giành chức vô_địch quốc_gia fa cup đánh_dấu mốc son chói_lọi arsenal đầu thập_kỷ mùa giải arsenal nhì fa cup đứng hai giải vô_địch quốc_gia mùa giải bertie mee từ_chức terry neill ban lãnh_đạo arsenal bổ_nhiệm vị_trí huấn_luyện_viên trưởng trở_thành huấn_luyện_viên trẻ lịch_sử arsenal hợp_đồng ký cầu_thủ malcolm macdonald pat jennings tài_năng trẻ liam brady frank stapleton đội bóng đi thành_công liên_tiếp lọt trận chung_kết fa cup giành chức vô_địch fa trận chung_kết kịch_tính thắng manchester united mùa giải tiếp_theo giành vị_trí á_quân european cup winners cup thua loạt sút luân_lưu graham wenger trở_lại cựu cầu_thủ george graham cương_vị huấn_luyện_viên đem giai_đoạn phục_hưng câu_lạc_bộ arsenal đoạt cúp liên_đoàn mùa giải đầu_tiên graham dẫn_dắt đội bóng mùa giải arsenal giành chức vô_địch quốc_gia trận thắng một_cách nghẹt_thở liverpool bàn thắng phút cuối_cùng duy_nhất trận thua bảo_vệ thành_công_chức vô_địch quốc_gia mùa giải arsenal giành cú đúp danh_hiệu fa cup cúp liên_đoàn mùa giải giành cúp hai đấu_trường châu_âu danh_hiệu uefa cup winners cup thắng parma f c trận chung_kết bàn thắng duy_nhất alan martin smith uy_tín graham lu_mờ dính một_số bê_bối chuyển_nhượng cầu_thủ graham sa_thải mặc_dù đem thành_công câu_lạc_bộ kế_tiếp graham bruce rioch huấn_luyện mùa rời câu_lạc_bộ bất_đồng ban lãnh_đạo cầu_thủ cổ_động_viên arsenal diễu_hành ăn_mừng chức vô_địch thập_niên đầu thập_niên arsenal thành_công quyết_định ký hợp_đồng huấn_luyện_viên nước_ngoài đầu_tiên lịch_sử câu_lạc_bộ arsène wenger ban lãnh_đạo arsenal wenger thay_đổi táo_bạo chiến_thuật chế_độ ăn_uống huấn_luyện chính_sách chuyển_nhượng một_số cầu_thủ nước_ngoài thi_đấu đào_tạo cầu_thủ trẻ arsenal đoạt cú đúp ngoại_hạng cúp fa mùa giải cú đúp mùa giải ngoài_ra câu_lạc_bộ lọt trận chung_kết uefa_cup thua loạt đá luân_lưu m galatasaray đoạt cúp fa đặc_biệt chức vô_địch ngoại_hạng mùa giải trọn_vẹn trận bất bại trận thắng trận hòa cổ_động_viên biệt_danh the invincibles chuỗi trận bất bại arsenal giải bóng_đá ngoại_hạng kỷ_lục bóng_đá trận chung_kết champions league fc barcelona giúp arsenal trở_thành đội bóng luân_đôn đầu_tiên lọt trận chung_kết cúp arsenal giành vị_trí nhì mùa giải đầu_tiên wenger dẫn_dắt tuy_nhiên mùa giải tiếp_theo không_thể hoàn_thành đội đội manchester united blackburn rovers chelsea manchester city vô_địch ngoại_hạng thành_lập arsenal bao_giờ tiến vòng tứ_kết uefa champions league mùa giải mùa giải trở_thành đội bóng đầu_tiên luân_đôn lịch_sử mươi giải đấu lọt trận chung_kết thua barcelona sân emirates thi_đấu sân highbury hai trận chung_kết cúp liên_đoàn thua tỷ_số chelsea birmingham arsenal trải chuỗi danh_hiệu đánh_bại hull city trận chung_kết cúp fa trận đấu lội ngược dòng đánh_bại hull tỷ_số arsenal đánh_bại manchester city trận siêu cúp giành siêu cúp arsenal xuất_hiện trận chung_kết fa cup hai liên_tiếp bảo_vệ thành_công_chức vô_địch đánh_bại aston villa trận chung_kết trở_thành câu_lạc_bộ thành_công lịch_sử giải đấu danh_hiệu kỷ_lục manchester united cân_bằng mùa bóng kế_tiếp arsenal đánh_bại chelsea sân_vận_động wembley giành siêu cúp danh_hiệu siêu cúp lịch_sử mùa giải arsenal giành á_quân giải ngoại_hạng kém leicester city arsenal tiếp_tục vô_địch cúp fa đánh_bại chelsea trận chung_kết trở_thành kỷ_lục gia danh_hiệu cúp fa chiến_thắng giúp wenger trở_thành huấn_luyện_viên đầu_tiên bóng_đá giành danh_hiệu cúp fa tuy_nhiên mùa giải pháo_thủ kết_thúc mùa giải ngoại_hạng vị_trí chung_cuộc đầu_tiên nằm top wenger câu_lạc mùa giải thành_công mùa bóng kế_tiếp wenger tuyên_bố chia_tay đội bóng tại_vị quyết_định hoan_nghênh chuyên_gia cựu cầu_thủ toàn thế_giới đặc_biệt cựu cầu_thủ cảm_ơn giúp phát_triển trận đấu sân_nhà cuối_cùng băng ghế chỉ_đạo trận thắng burnley chào_đón nhiệt_liệt cổ_động_viên trận cuối_cùng triều_đại wenger trận thắng sân câu_lạc_bộ huddersfield']"
      ]
     },
     "execution_count": 9,
     "metadata": {},
     "output_type": "execute_result"
    }
   ],
   "source": [
    "# Define the Data\n",
    "doc_4=read_file(\"doc4.txt\")\t#Crawl from: https://vi.wikipedia.org/wiki/X%E1%BB%AD_l%C3%BD_ng%C3%B4n_ng%E1%BB%AF_t%E1%BB%B1_nhi%C3%AAn\n",
    "doc_5=read_file(\"doc5.txt\") #Crawl from: https://en.wikipedia.org/wiki/Manchester_United_F.C.\n",
    "doc_6=read_file(\"doc6.txt\") #Crawl from: https://vi.wikipedia.org/wiki/Arsenal_F.C.\n",
    "\n",
    "doc_4=Text_Preprocessing(doc_4)\n",
    "doc_5=Text_Preprocessing(doc_5)\n",
    "doc_6=Text_Preprocessing(doc_6)\n",
    "\n",
    "data = [doc_4, doc_5, doc_6]\n",
    "data"
   ]
  },
  {
   "cell_type": "code",
   "execution_count": 10,
   "metadata": {},
   "outputs": [
    {
     "data": {
      "text/plain": [
       "(3, 941)"
      ]
     },
     "execution_count": 10,
     "metadata": {},
     "output_type": "execute_result"
    }
   ],
   "source": [
    "# Xây dựng vector TF-IDF\n",
    "CountVect = CountVectorizer()\n",
    "vector_matrix = CountVect.fit_transform(data)\n",
    "vector_matrix.shape"
   ]
  },
  {
   "cell_type": "code",
   "execution_count": 11,
   "metadata": {},
   "outputs": [
    {
     "data": {
      "text/html": [
       "<div>\n",
       "<style scoped>\n",
       "    .dataframe tbody tr th:only-of-type {\n",
       "        vertical-align: middle;\n",
       "    }\n",
       "\n",
       "    .dataframe tbody tr th {\n",
       "        vertical-align: top;\n",
       "    }\n",
       "\n",
       "    .dataframe thead th {\n",
       "        text-align: right;\n",
       "    }\n",
       "</style>\n",
       "<table border=\"1\" class=\"dataframe\">\n",
       "  <thead>\n",
       "    <tr style=\"text-align: right;\">\n",
       "      <th></th>\n",
       "      <th>doc_4</th>\n",
       "      <th>doc_5</th>\n",
       "      <th>doc_6</th>\n",
       "    </tr>\n",
       "  </thead>\n",
       "  <tbody>\n",
       "    <tr>\n",
       "      <th>doc_4</th>\n",
       "      <td>1.000000</td>\n",
       "      <td>0.024140</td>\n",
       "      <td>0.034699</td>\n",
       "    </tr>\n",
       "    <tr>\n",
       "      <th>doc_5</th>\n",
       "      <td>0.024140</td>\n",
       "      <td>1.000000</td>\n",
       "      <td>0.712999</td>\n",
       "    </tr>\n",
       "    <tr>\n",
       "      <th>doc_6</th>\n",
       "      <td>0.034699</td>\n",
       "      <td>0.712999</td>\n",
       "      <td>1.000000</td>\n",
       "    </tr>\n",
       "  </tbody>\n",
       "</table>\n",
       "</div>"
      ],
      "text/plain": [
       "          doc_4     doc_5     doc_6\n",
       "doc_4  1.000000  0.024140  0.034699\n",
       "doc_5  0.024140  1.000000  0.712999\n",
       "doc_6  0.034699  0.712999  1.000000"
      ]
     },
     "execution_count": 11,
     "metadata": {},
     "output_type": "execute_result"
    }
   ],
   "source": [
    "tokens = CountVect.get_feature_names_out()\n",
    "create_dataframe(vector_matrix.toarray(),tokens)\n",
    "\n",
    "# Tính toán độ tương đồng\n",
    "cosine_similarity_matrix = cosine_similarity(vector_matrix)\n",
    "Similarity=create_dataframe(cosine_similarity_matrix,['doc_4','doc_5','doc_6'])\n",
    "\n",
    "Similarity"
   ]
  }
 ],
 "metadata": {
  "kernelspec": {
   "display_name": "Python 3",
   "language": "python",
   "name": "python3"
  },
  "language_info": {
   "codemirror_mode": {
    "name": "ipython",
    "version": 3
   },
   "file_extension": ".py",
   "mimetype": "text/x-python",
   "name": "python",
   "nbconvert_exporter": "python",
   "pygments_lexer": "ipython3",
   "version": "3.9.2"
  },
  "orig_nbformat": 4
 },
 "nbformat": 4,
 "nbformat_minor": 2
}
